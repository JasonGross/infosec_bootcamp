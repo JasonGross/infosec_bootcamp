{
 "cells": [
  {
   "cell_type": "markdown",
   "metadata": {},
   "source": [
    "Note: you need to run this as root. Ie sudo `jupyter notebook --allow-root`"
   ]
  },
  {
   "cell_type": "code",
   "execution_count": 20,
   "metadata": {},
   "outputs": [],
   "source": [
    "import socket\n",
    "import struct\n",
    "import time\n",
    "import random\n",
    "import subprocess\n",
    "import re\n",
    "from scapy.all import Ether, ARP, srp, sendp, sniff\n",
    "from scapy.all import *\n",
    "import logging"
   ]
  },
  {
   "cell_type": "markdown",
   "metadata": {},
   "source": [
    "To test our code, we'll need to create a virtual switch. TO do that, run `setup_script_mac.sh` if you're on mac. If you're not on mac, you brought this upon yourself."
   ]
  },
  {
   "cell_type": "markdown",
   "metadata": {},
   "source": [
    "Run this cell to send a message to our bridge and receiving it back."
   ]
  },
  {
   "cell_type": "code",
   "execution_count": 2,
   "metadata": {},
   "outputs": [
    {
     "name": "stdout",
     "output_type": "stream",
     "text": [
      "Using interface: bridge0\n",
      "Listening on bridge0\n",
      "###[ Ethernet ]### \n",
      "  dst       = ff:ff:ff:ff:ff:ff\n",
      "  src       = 36:d6:fd:84:9a:00\n",
      "  type      = 0x9000\n",
      "###[ Raw ]### \n",
      "     load      = 'Hello, virtual network!'\n",
      "Sent frame on bridge0\n",
      "\n"
     ]
    }
   ],
   "source": [
    "def send_frame(iface):\n",
    "    # Create a simple Ethernet frame\n",
    "    frame = Ether(dst=\"ff:ff:ff:ff:ff:ff\", src=get_if_hwaddr(iface)) / Raw(load=\"Hello, virtual network!\")\n",
    "    sendp(frame, iface=iface, verbose=False)\n",
    "    print(f\"Sent frame on {iface}\")\n",
    "\n",
    "def receive_frame(iface):\n",
    "    print(f\"Listening on {iface}\")\n",
    "    sniff(iface=iface, prn=lambda x: x.show(), count=1)\n",
    "\n",
    "def delayed_send(iface):\n",
    "    time.sleep(5)\n",
    "    send_frame(iface)\n",
    "\n",
    "\n",
    "local_interface = \"bridge0\"\n",
    "print(f\"Using interface: {local_interface}\")\n",
    "# Start a thread to continuously send frames\n",
    "send_thread = threading.Thread(target=delayed_send, args=(local_interface,))\n",
    "send_thread.daemon = True\n",
    "send_thread.start()\n",
    "receive_frame(local_interface)"
   ]
  },
  {
   "cell_type": "markdown",
   "metadata": {},
   "source": [
    "Next, test the wifi bridge."
   ]
  },
  {
   "cell_type": "code",
   "execution_count": 3,
   "metadata": {},
   "outputs": [
    {
     "name": "stdout",
     "output_type": "stream",
     "text": [
      "Using interface: bridge1\n",
      "Listening on bridge1\n",
      "###[ Ethernet ]### \n",
      "  dst       = 01:00:5e:7f:ff:fa\n",
      "  src       = 3c:06:30:07:40:f6\n",
      "  type      = IPv4\n",
      "###[ IP ]### \n",
      "     version   = 4\n",
      "     ihl       = 5\n",
      "     tos       = 0x0\n",
      "     len       = 204\n",
      "     id        = 62028\n",
      "     flags     = \n",
      "     frag      = 0\n",
      "     ttl       = 1\n",
      "     proto     = udp\n",
      "     chksum    = 0xcbac\n",
      "     src       = 10.11.1.35\n",
      "     dst       = 239.255.255.250\n",
      "     \\options   \\\n",
      "###[ UDP ]### \n",
      "        sport     = 59920\n",
      "        dport     = ssdp\n",
      "        len       = 184\n",
      "        chksum    = 0x2a82\n",
      "###[ Raw ]### \n",
      "           load      = 'M-SEARCH * HTTP/1.1\\r\\nHOST: 239.255.255.250:1900\\r\\nMAN: \"ssdp:discover\"\\r\\nMX: 1\\r\\nST: urn:dial-multiscreen-org:service:dial:1\\r\\nUSER-AGENT: Google Chrome/125.0.6422.144 Mac OS X\\r\\n\\r\\n'\n",
      "\n",
      "Listening on bridge1\n",
      "###[ Ethernet ]### \n",
      "  dst       = 01:00:5e:00:00:fb\n",
      "  src       = 82:a9:97:d3:1e:01\n",
      "  type      = IPv4\n",
      "###[ IP ]### \n",
      "     version   = 4\n",
      "     ihl       = 5\n",
      "     tos       = 0x0\n",
      "     len       = 379\n",
      "     id        = 39313\n",
      "     flags     = \n",
      "     frag      = 0\n",
      "     ttl       = 255\n",
      "     proto     = udp\n",
      "     chksum    = 0x0\n",
      "     src       = 192.168.200.1\n",
      "     dst       = 224.0.0.251\n",
      "     \\options   \\\n",
      "###[ UDP ]### \n",
      "        sport     = mdns\n",
      "        dport     = mdns\n",
      "        len       = 359\n",
      "        chksum    = 0x6b1e\n",
      "###[ DNS ]### \n",
      "           id        = 0\n",
      "           qr        = 1\n",
      "           opcode    = QUERY\n",
      "           aa        = 1\n",
      "           tc        = 0\n",
      "           rd        = 0\n",
      "           ra        = 0\n",
      "           z         = 0\n",
      "           ad        = 0\n",
      "           cd        = 0\n",
      "           rcode     = ok\n",
      "           qdcount   = 0\n",
      "           ancount   = 2\n",
      "           nscount   = 0\n",
      "           arcount   = 5\n",
      "           qd        = None\n",
      "           \\an        \\\n",
      "            |###[ DNS Resource Record ]### \n",
      "            |  rrname    = '_companion-link._tcp.local.'\n",
      "            |  type      = PTR\n",
      "            |  rclass    = IN\n",
      "            |  ttl       = 4500\n",
      "            |  rdlen     = None\n",
      "            |  rdata     = 'Jason’s MacBook Pro._companion-link._tcp.local.'\n",
      "            |###[ DNS Resource Record ]### \n",
      "            |  rrname    = 'Jason’s MacBook Pro._device-info._tcp.local.'\n",
      "            |  type      = TXT\n",
      "            |  rclass    = IN\n",
      "            |  ttl       = 4500\n",
      "            |  rdlen     = 34\n",
      "            |  rdata     = [b'model=Mac15,6', b'osxvers=23', b'icolor=9']\n",
      "           ns        = None\n",
      "           \\ar        \\\n",
      "            |###[ DNS Resource Record ]### \n",
      "            |  rrname    = 'Jason’s MacBook Pro._companion-link._tcp.local.'\n",
      "            |  type      = TXT\n",
      "            |  rclass    = 32769\n",
      "            |  ttl       = 4500\n",
      "            |  rdlen     = 91\n",
      "            |  rdata     = [b'rpBA=15:5F:0B:47:84:CA', b'rpAD=195ae8c10723', b'rpFl=0x20000', b'rpHN=6880e4895457', b'rpMac=0', b'rpVr=550.7']\n",
      "            |###[ DNS SRV Resource Record ]### \n",
      "            |  rrname    = 'Jason’s MacBook Pro._companion-link._tcp.local.'\n",
      "            |  type      = SRV\n",
      "            |  rclass    = 32769\n",
      "            |  ttl       = 4500\n",
      "            |  rdlen     = None\n",
      "            |  priority  = 0\n",
      "            |  weight    = 0\n",
      "            |  port      = 51476\n",
      "            |  target    = 'Jasons-MacBook-Pro.local.'\n",
      "            |###[ DNS Resource Record ]### \n",
      "            |     rrname    = 'Jasons-MacBook-Pro.local.'\n",
      "            |     type      = A\n",
      "            |     rclass    = 32769\n",
      "            |     ttl       = 4500\n",
      "            |     rdlen     = 4\n",
      "            |     rdata     = 192.168.200.1\n",
      "            |###[ DNS NSEC Resource Record ]### \n",
      "            |     rrname    = 'Jason’s MacBook Pro._companion-link._tcp.local.'\n",
      "            |     type      = NSEC\n",
      "            |     rclass    = 32769\n",
      "            |     ttl       = 4500\n",
      "            |     rdlen     = None\n",
      "            |     nextname  = 'Jason’s MacBook Pro._companion-link._tcp.local.'\n",
      "            |     typebitmaps= ['TXT', 'SRV']\n",
      "            |###[ DNS NSEC Resource Record ]### \n",
      "            |        rrname    = 'Jasons-MacBook-Pro.local.'\n",
      "            |        type      = NSEC\n",
      "            |        rclass    = 32769\n",
      "            |        ttl       = 4500\n",
      "            |        rdlen     = None\n",
      "            |        nextname  = 'Jasons-MacBook-Pro.local.'\n",
      "            |        typebitmaps= ['A']\n",
      "\n",
      "Listening on bridge1\n",
      "###[ Ethernet ]### \n",
      "  dst       = 33:33:00:00:00:fb\n",
      "  src       = 3e:a8:61:21:5d:22\n",
      "  type      = IPv6\n",
      "###[ IPv6 ]### \n",
      "     version   = 6\n",
      "     tc        = 0\n",
      "     fl        = 851968\n",
      "     plen      = 68\n",
      "     nh        = UDP\n",
      "     hlim      = 255\n",
      "     src       = fe80::4d9:5956:5da9:c759\n",
      "     dst       = ff02::fb\n",
      "###[ UDP ]### \n",
      "        sport     = mdns\n",
      "        dport     = mdns\n",
      "        len       = 68\n",
      "        chksum    = 0xa848\n",
      "###[ DNS ]### \n",
      "           id        = 0\n",
      "           qr        = 0\n",
      "           opcode    = QUERY\n",
      "           aa        = 0\n",
      "           tc        = 0\n",
      "           rd        = 0\n",
      "           ra        = 0\n",
      "           z         = 0\n",
      "           ad        = 0\n",
      "           cd        = 0\n",
      "           rcode     = ok\n",
      "           qdcount   = 2\n",
      "           ancount   = 0\n",
      "           nscount   = 0\n",
      "           arcount   = 0\n",
      "           \\qd        \\\n",
      "            |###[ DNS Question Record ]### \n",
      "            |  qname     = '_rdlink._tcp.local.'\n",
      "            |  qtype     = PTR\n",
      "            |  qclass    = IN\n",
      "            |###[ DNS Question Record ]### \n",
      "            |  qname     = '_sleep-proxy._udp.local.'\n",
      "            |  qtype     = PTR\n",
      "            |  qclass    = IN\n",
      "           an        = None\n",
      "           ns        = None\n",
      "           ar        = None\n",
      "\n",
      "Listening on bridge1\n",
      "###[ Ethernet ]### \n",
      "  dst       = 01:00:5e:00:00:fb\n",
      "  src       = 9c:3e:53:84:a0:28\n",
      "  type      = IPv4\n",
      "###[ IP ]### \n",
      "     version   = 4\n",
      "     ihl       = 5\n",
      "     tos       = 0x0\n",
      "     len       = 171\n",
      "     id        = 3053\n",
      "     flags     = \n",
      "     frag      = 0\n",
      "     ttl       = 255\n",
      "     proto     = udp\n",
      "     chksum    = 0xc1f2\n",
      "     src       = 10.11.2.92\n",
      "     dst       = 224.0.0.251\n",
      "     \\options   \\\n",
      "###[ UDP ]### \n",
      "        sport     = mdns\n",
      "        dport     = mdns\n",
      "        len       = 151\n",
      "        chksum    = 0x656b\n",
      "###[ DNS ]### \n",
      "           id        = 0\n",
      "           qr        = 1\n",
      "           opcode    = QUERY\n",
      "           aa        = 1\n",
      "           tc        = 0\n",
      "           rd        = 0\n",
      "           ra        = 0\n",
      "           z         = 0\n",
      "           ad        = 0\n",
      "           cd        = 0\n",
      "           rcode     = ok\n",
      "           qdcount   = 0\n",
      "           ancount   = 2\n",
      "           nscount   = 0\n",
      "           arcount   = 0\n",
      "           qd        = None\n",
      "           \\an        \\\n",
      "            |###[ DNS Resource Record ]### \n",
      "            |  rrname    = '_companion-link._tcp.local.'\n",
      "            |  type      = PTR\n",
      "            |  rclass    = IN\n",
      "            |  ttl       = 4500\n",
      "            |  rdlen     = None\n",
      "            |  rdata     = 'MacBook Pro (3)._companion-link._tcp.local.'\n",
      "            |###[ DNS Resource Record ]### \n",
      "            |  rrname    = 'MacBook Pro (3)._device-info._tcp.local.'\n",
      "            |  type      = TXT\n",
      "            |  rclass    = IN\n",
      "            |  ttl       = 4500\n",
      "            |  rdlen     = 34\n",
      "            |  rdata     = [b'model=Mac14,7', b'osxvers=21', b'icolor=2']\n",
      "           ns        = None\n",
      "           ar        = None\n",
      "\n",
      "Listening on bridge1\n",
      "###[ Ethernet ]### \n",
      "  dst       = ff:ff:ff:ff:ff:ff\n",
      "  src       = 3c:06:30:07:40:f6\n",
      "  type      = ARP\n",
      "###[ ARP ]### \n",
      "     hwtype    = Ethernet (10Mb)\n",
      "     ptype     = IPv4\n",
      "     hwlen     = 6\n",
      "     plen      = 4\n",
      "     op        = who-has\n",
      "     hwsrc     = 3c:06:30:07:40:f6\n",
      "     psrc      = 10.11.1.35\n",
      "     hwdst     = 00:00:00:00:00:00\n",
      "     pdst      = 10.11.1.20\n",
      "\n"
     ]
    }
   ],
   "source": [
    "internet_interface = \"bridge1\"\n",
    "print(f\"Using interface: {internet_interface}\")\n",
    "for i in range(5):\n",
    "    receive_frame(internet_interface)\n",
    "# Visit a website/general internet traffic"
   ]
  },
  {
   "cell_type": "code",
   "execution_count": 4,
   "metadata": {},
   "outputs": [],
   "source": [
    "local_ip = \"192.168.100.2\"\n",
    "internet_ip = \"192.168.200.2\"\n",
    "network_prefix = \"192.168.100\""
   ]
  },
  {
   "cell_type": "markdown",
   "metadata": {},
   "source": [
    "Write a function `parse_ethernet_frame` that takes a single parameter `frame`. This function should parse an Ethernet frame and return its components. Follow these steps:\n",
    "\n",
    "1. Extract the destination MAC address:\n",
    "   - Use the first 6 bytes of the frame\n",
    "   - Convert it to a hexadecimal string with colons between each byte\n",
    "\n",
    "2. Extract the source MAC address:\n",
    "   - Use the next 6 bytes of the frame (bytes 6-12)\n",
    "   - Convert it to a hexadecimal string with colons between each byte\n",
    "\n",
    "3. Extract the EtherType:\n",
    "   - Use the next 2 bytes of the frame (bytes 12-14)\n",
    "   - Unpack these bytes as a big-endian unsigned short integer\n",
    "\n",
    "4. Extract the payload:\n",
    "   - Use all remaining bytes of the frame (from byte 14 onwards)\n",
    "\n",
    "5. Return the extracted components in the following order:\n",
    "   destination MAC, source MAC, EtherType, and payload\n",
    "\n",
    "Notes:\n",
    "- Use the `bytes.hex()` method with the `':'` separator for MAC addresses\n",
    "- Use `struct.unpack()` with the format string `'!H'` for the EtherType"
   ]
  },
  {
   "cell_type": "code",
   "execution_count": 6,
   "metadata": {},
   "outputs": [
    {
     "name": "stdout",
     "output_type": "stream",
     "text": [
      "Help on method_descriptor:\n",
      "\n",
      "hex(...)\n",
      "    Create a string of hexadecimal numbers from a bytes object.\n",
      "    \n",
      "      sep\n",
      "        An optional single character or byte to separate hex bytes.\n",
      "      bytes_per_sep\n",
      "        How many bytes between separators.  Positive values count from the\n",
      "        right, negative values count from the left.\n",
      "    \n",
      "    Example:\n",
      "    >>> value = b'\\xb9\\x01\\xef'\n",
      "    >>> value.hex()\n",
      "    'b901ef'\n",
      "    >>> value.hex(':')\n",
      "    'b9:01:ef'\n",
      "    >>> value.hex(':', 2)\n",
      "    'b9:01ef'\n",
      "    >>> value.hex(':', -2)\n",
      "    'b901:ef'\n",
      "\n"
     ]
    }
   ],
   "source": [
    "help(bytes.hex)"
   ]
  },
  {
   "cell_type": "code",
   "execution_count": 7,
   "metadata": {},
   "outputs": [],
   "source": [
    "def parse_ethernet_frame(frame: bytes) -> Tuple[str, str, int, bytes]:\n",
    "    dst_mac = frame[:6].hex(\":\")\n",
    "    src_mac = frame[6:12].hex(\":\")\n",
    "    ethertype = struct.unpack(\"!H\", frame[12:14])[0]\n",
    "    payload = frame[14:]\n",
    "    return dst_mac, src_mac, ethertype, payload\n",
    "    #dest_mac, src_mac, frame_type = struct.unpack(\"!6s6sH\", frame[:14])\n",
    "    #return (dest_mac, src_mac, frame_type, frame[14:])\n",
    "\n",
    "#"
   ]
  },
  {
   "cell_type": "markdown",
   "metadata": {},
   "source": [
    "Write a function `parse_ip_header` that takes a single parameter `ip_data`. This function should parse an IP header and return its components. Follow these steps:\n",
    "\n",
    "1. Unpack the first 20 bytes of the IP header:\n",
    "   - Use `struct.unpack()` with the format string `'!BBHHHBBH4s4s'`\n",
    "   - Store the result in a variable named `iph`\n",
    "\n",
    "2. Extract the version and IHL (Internet Header Length):\n",
    "   - The first byte contains both version and IHL\n",
    "   - Extract version by right-shifting the first byte by 4 bits\n",
    "   - Extract IHL by masking the first byte with 0xF and multiplying by 4\n",
    "\n",
    "3. Extract the TTL (Time To Live):\n",
    "   - This is the 6th byte in the header (index 5 in `iph`)\n",
    "\n",
    "4. Extract the protocol:\n",
    "   - This is the 7th byte in the header (index 6 in `iph`)\n",
    "\n",
    "5. Extract and convert source IP address:\n",
    "   - Use the 9th 4-byte chunk from `iph` (index 8)\n",
    "   - Convert from network byte order to a string using `socket.inet_ntoa()`\n",
    "\n",
    "6. Extract and convert destination IP address:\n",
    "   - Use the 10th 4-byte chunk from `iph` (index 9)\n",
    "   - Convert from network byte order to a string using `socket.inet_ntoa()`\n",
    "\n",
    "7. Extract the payload:\n",
    "   - This is all data after the header (use `ip_data[ihl:]`)\n",
    "\n",
    "8. Return all extracted components in the following order:\n",
    "   version, IHL, TTL, protocol, source IP, destination IP, and payload\n",
    "\n",
    "Notes:\n",
    "- Import necessary modules (you'll need `struct` and `socket`)\n",
    "- The `inet_ntoa()` function converts an IP address from 32-bit packed binary format to a string"
   ]
  },
  {
   "cell_type": "code",
   "execution_count": 8,
   "metadata": {},
   "outputs": [],
   "source": [
    "def parse_ip_header(ip_data: bytes) -> Tuple[int, int, int, int, str, str, bytes]:\n",
    "    iph = struct.unpack(\"!BBHHHBBH4s4s\", ip_data[:20])\n",
    "    version = iph[0] >> 4\n",
    "    ihl = (iph[0] & 0xF) << 2\n",
    "    ttl = iph[5]\n",
    "    protocol = iph[6]\n",
    "    src_ip = socket.inet_ntoa(iph[8])\n",
    "    dst_ip = socket.inet_ntoa(iph[9])\n",
    "    data = ip_data[ihl:]\n",
    "    return version, ihl, ttl, protocol, src_ip, dst_ip, data"
   ]
  },
  {
   "cell_type": "markdown",
   "metadata": {},
   "source": [
    "Write a function to parse the source and destination ports from TCP or UDP headers.\n",
    "\n",
    "Implement the following logic in your function:\n",
    "   \n",
    "   a. Check if the `protocol` is either 6 (TCP) or 17 (UDP).\n",
    "   \n",
    "   b. If the protocol matches:\n",
    "      - Use `struct.unpack()` to extract two unsigned short integers (16-bit) from the first 4 bytes of `data`.\n",
    "      - Use the format string '!HH' for network byte order (big-endian).\n",
    "      - Assign the unpacked values to `src_port` and `dst_port`.\n",
    "      - Return `src_port` and `dst_port` as a tuple.\n",
    "   \n",
    "   c. If the protocol doesn't match TCP or UDP, return `None, None`."
   ]
  },
  {
   "cell_type": "code",
   "execution_count": 9,
   "metadata": {},
   "outputs": [],
   "source": [
    "def parse_tcp_udp_header(data: bytes, protocol: int) -> Tuple[Optional[bytes], Optional[bytes]]: # TODO: wrong type???\n",
    "    match protocol:\n",
    "        case 6|17: # TCP or UDP\n",
    "            src_port, dst_port = struct.unpack(\"!HH\", data[:4])\n",
    "            return src_port, dst_port\n",
    "        case _:\n",
    "            return None, None\n"
   ]
  },
  {
   "cell_type": "markdown",
   "metadata": {},
   "source": [
    "# IP Header Creation\n",
    "\n",
    "Given a source and destination IP, create an IP header. The IP header is some data at the start of the packet that contains routing information. It's formatted as per the IP standard (https://en.wikipedia.org/wiki/IPv4).\n",
    "\n",
    "## Header Structure\n",
    "\n",
    "1. **Version (4 bits)**: 4 for IPv4\n",
    "2. **Header Length (4 bits)**: Fixed length of 5 (no options)\n",
    "3. **Type of Service (1 byte)**:\n",
    "   - Set to 0 (default)\n",
    "   - Options can be found at https://en.wikipedia.org/wiki/Differentiated_services\n",
    "   - Includes Explicit Congestion Notification (also set to 0)\n",
    "4. **Total Length (2 bytes)**: Length of the entire packet (header + data)\n",
    "5. **Identification (2 bytes)**: Set to a random number\n",
    "6. **Fragmentation (2 bytes)**: Not used in this case\n",
    "7. **Time To Live (TTL) (1 byte)**: Decremented each time the packet is forwarded\n",
    "8. **Protocol (1 byte)**:\n",
    "   - Set to 6 for TCP\n",
    "   - Full list: https://en.wikipedia.org/wiki/List_of_IP_protocol_numbers\n",
    "9. **Header Checksum (2 bytes)**: Set to 0 for now, to be calculated based on the header\n",
    "\n",
    "## Question\n",
    "\n",
    "1. What is the maximum possible length of data that can be sent in a single packet, excluding the header, based on what we know so far?"
   ]
  },
  {
   "cell_type": "code",
   "execution_count": 14,
   "metadata": {},
   "outputs": [
    {
     "name": "stdout",
     "output_type": "stream",
     "text": [
      "Help on built-in function pack in module _struct:\n",
      "\n",
      "pack(...)\n",
      "    pack(format, v1, v2, ...) -> bytes\n",
      "    \n",
      "    Return a bytes object containing the values v1, v2, ... packed according\n",
      "    to the format string.  See help(struct) for more on format strings.\n",
      "\n"
     ]
    }
   ],
   "source": [
    "help(struct.pack)"
   ]
  },
  {
   "cell_type": "code",
   "execution_count": 18,
   "metadata": {},
   "outputs": [],
   "source": [
    "def create_ip_header(src_ip: str, dst_ip: str, ttl: int, protocol: int, total_length: int) -> bytes:\n",
    "    version = 4\n",
    "    ihl = 20\n",
    "    tos = 0\n",
    "    identification = random.randint(0, 2**16 - 1)\n",
    "    protocol = 6\n",
    "    fragmentation = 0\n",
    "    src = socket.inet_aton(src_ip)\n",
    "    dst = socket.inet_aton(dst_ip)\n",
    "    checksum = 0 # TODO\n",
    "    version_ihl = (version << 4) | (ihl >> 2)\n",
    "    ip_header = struct.pack(\"!BBHHHBBH4s4s\", version_ihl, tos, total_length, identification, fragmentation, ttl, protocol, checksum, src, dst)\n",
    "    return ip_header"
   ]
  },
  {
   "cell_type": "code",
   "execution_count": 16,
   "metadata": {},
   "outputs": [
    {
     "data": {
      "text/plain": [
       "65515"
      ]
     },
     "execution_count": 16,
     "metadata": {},
     "output_type": "execute_result"
    }
   ],
   "source": [
    "# max length of data w/o header\n",
    "2**16 - 1 - 20"
   ]
  },
  {
   "cell_type": "markdown",
   "metadata": {},
   "source": [
    "Implement a function `calculate_checksum(data)` that computes the Internet Checksum for the given packet.\n",
    "\n",
    "> The checksum field is the 16 bit one's complement of the one's complement sum of all 16 bit words in the header. For purposes of computing the checksum, the value of the checksum field is zero.\n",
    "\n",
    "You can read more about it on [Wikipedia](https://en.wikipedia.org/wiki/Internet_checksum)\n",
    "\n",
    "This checksum is commonly used in network protocols like IP, TCP, and UDP. Follow these general steps:\n",
    "\n",
    "1. Ensure the data has an even number of bytes, padding if necessary.\n",
    "\n",
    "2. Convert the byte sequence into a series of 16-bit integers.\n",
    "\n",
    "3. Add all the 16-bit words together.\n",
    "\n",
    "4. If there's any overflow beyond 16 bits during addition, add the overflow back to the sum.\n",
    "\n",
    "5. Take the one's complement of the final sum.\n",
    "\n",
    "6. The checksum should be a 16-bit value."
   ]
  },
  {
   "cell_type": "code",
   "execution_count": 17,
   "metadata": {},
   "outputs": [],
   "source": [
    "def calculate_checksum(data: bytes) -> int:\n",
    "    if len(data) % 2 != 0:\n",
    "        data += b\"\\x00\"\n",
    "    checksum = 0\n",
    "    for i in range(0, len(data), 2):\n",
    "        checksum += int.from_bytes(data[i:i+2], \"big\")\n",
    "    return ~checksum & 0xFFFF"
   ]
  },
  {
   "cell_type": "code",
   "execution_count": 19,
   "metadata": {},
   "outputs": [],
   "source": [
    "# Routing table to keep track of which interface to use for a given destination\n",
    "routing_table = {}\n",
    "\n",
    "def update_routing_table(mac_address, interface):\n",
    "    routing_table[mac_address] = interface"
   ]
  },
  {
   "cell_type": "markdown",
   "metadata": {},
   "source": [
    "Implement a function `handle_nat` that performs Network Address Translation (NAT) for outgoing packets. The function should take the following parameters:\n",
    "\n",
    "1. `protocol`: The protocl of the packet (e.g., 'TCP', 'UDP')\n",
    "2. `src_ip`: Original source IP address\n",
    "3. `src_port`: Original source port\n",
    "4. `dst_ip`: Destination IP address\n",
    "5. `dst_port`: Destination port\n",
    "\n",
    "The function should perform the following steps:\n",
    "\n",
    "1. Connection Identification:\n",
    "   - Create a unique identifier for the connection using the protocol, source IP, and source port.\n",
    "   - Log or print the NAT operation details for debugging purposes.\n",
    "\n",
    "2. NAT Table Lookup:\n",
    "   - Check if the connection identifier exists in the NAT table.\n",
    "\n",
    "3. New Connection Handling:\n",
    "   - If the connection is new (not in the NAT table):\n",
    "     a. Generate a new 'public' port number from the dynamic/private port range (49152-65535).\n",
    "     b. Create a new entry in the NAT table mapping the connection ID to the new public port.\n",
    "     c. Create a reverse mapping in the NAT table for incoming packets.\n",
    "\n",
    "4. Return Translation:\n",
    "   - Return the public IP address (internet-facing IP) and the translated port number.\n",
    "\n",
    "Notes:\n",
    "- The function should handle potential port conflicts and ensure unique mappings."
   ]
  },
  {
   "cell_type": "code",
   "execution_count": 22,
   "metadata": {},
   "outputs": [],
   "source": [
    "# NAT table to keep track of connections\n",
    "\n",
    "nat_table = {}\n",
    "rev_nat_table = {}\n",
    "available_ports = set(range(40152, 65535+1))\n",
    "\n",
    "def handle_nat(protocol: str, src_ip: str, src_port: int, dst_ip: str, dst_port: int) -> Tuple[str, int]:\n",
    "   uid = (protocol, src_ip, src_port)\n",
    "   logging.debug(f\"handle_nat({protocol}, {src_ip}, {src_port}, {dst_ip}, {dst_port}) -> {uid}\")\n",
    "   if uid in nat_table:\n",
    "       return nat_table[uid]\n",
    "   else:\n",
    "        # Generate a new random port number\n",
    "        new_port = random.choice(list(available_ports))\n",
    "        available_ports.remove(new_port)\n",
    "        public_ip = (src_ip, new_port)\n",
    "        nat_table[uid] = public_ip\n",
    "        rev_nat_table[(protocol, public_ip)] = uid\n",
    "        return public_ip\n"
   ]
  },
  {
   "cell_type": "code",
   "execution_count": 24,
   "metadata": {},
   "outputs": [],
   "source": [
    "def forward_frame(frame, output_interface):\n",
    "    sendp(Raw(frame), iface=output_interface, verbose=False)\n",
    "    print(f\"Forwarded frame via {output_interface}\")"
   ]
  },
  {
   "cell_type": "code",
   "execution_count": 23,
   "metadata": {},
   "outputs": [],
   "source": [
    "def modify_ip_header(ip_header, new_src_ip, new_dst_ip, new_ttl):\n",
    "    new_ip_header = create_ip_header(new_src_ip, new_dst_ip, ip_header[6], len(ip_header), new_ttl)\n",
    "    checksum = calculate_checksum(new_ip_header)\n",
    "    return new_ip_header[:10] + struct.pack('!H', checksum) + new_ip_header[12:]"
   ]
  },
  {
   "cell_type": "code",
   "execution_count": 25,
   "metadata": {},
   "outputs": [],
   "source": [
    "def modify_tcp_udp_header(header, new_src_port=None, new_dst_port=None):\n",
    "    src_port, dst_port = struct.unpack('!HH', header[:4])\n",
    "    if new_src_port is not None:\n",
    "        src_port = new_src_port\n",
    "    if new_dst_port is not None:\n",
    "        dst_port = new_dst_port\n",
    "    return struct.pack('!HH', src_port, dst_port) + header[4:]"
   ]
  },
  {
   "cell_type": "markdown",
   "metadata": {},
   "source": [
    "Implement a function `create_ethernet_frame` that constructs an Ethernet frame from its components. The function should take four parameters:\n",
    "\n",
    "1. `dst_mac`: The destination MAC address\n",
    "2. `src_mac`: The source MAC address\n",
    "3. `ethertype`: The EtherType field\n",
    "4. `payload`: The frame's payload data\n",
    "\n",
    "This is just the reverse of `parse_etehrnet_fame`; you may want to refer back to that."
   ]
  },
  {
   "cell_type": "code",
   "execution_count": 26,
   "metadata": {},
   "outputs": [],
   "source": [
    "def create_ethernet_frame(dst_mac: str, src_mac: str, ethertype: int, payload: bytes) -> bytes:\n",
    "    dst_mac = bytes.fromhex(dst_mac.replace(\":\", \"\"))\n",
    "    src_mac = bytes.fromhex(src_mac.replace(\":\", \"\"))\n",
    "    ethertype = struct.pack(\"!H\", ethertype)\n",
    "    return dst_mac + src_mac + ethertype + payload"
   ]
  },
  {
   "cell_type": "markdown",
   "metadata": {},
   "source": [
    "Implement a function `handle_outgoing_packet` that processes an outgoing network packet. The function should take the following parameters:\n",
    "\n",
    "1. `src_ip`: Source IP address\n",
    "2. `src_port`: Source port\n",
    "3. `dst_ip`: Destination IP address\n",
    "4. `dst_port`: Destination port\n",
    "5. `protocol`: Network protocol (e.g., TCP, UDP)\n",
    "6. `ip_header`: The original IP header\n",
    "7. `ip_payload`: The original IP payload (including transport layer header and data)\n",
    "\n",
    "The function should perform the following steps:\n",
    "\n",
    "1. Apply NAT to potentially modify the source IP and port.\n",
    "\n",
    "2. Decrement the TTL value from the IP header.\n",
    "\n",
    "3. Update the IP header with the new source IP (post-NAT) and TTL.\n",
    "\n",
    "4. Update the transport layer header (TCP or UDP) with the new source port (post-NAT).\n",
    "\n",
    "5. Combine the modified IP header and transport layer header.\n",
    "\n",
    "6. Determine the destination MAC address using a routing table.\n",
    "   - If not found, use a broadcast MAC address.\n",
    "\n",
    "7. Get the MAC address of the outgoing network interface.\n",
    "\n",
    "8. Construct an Ethernet frame using the resolved MAC addresses, appropriate EtherType for IP (0x0800), and the modified payload.\n",
    "\n",
    "9. Return the created Ethernet frame and the identifier for the outgoing network interface."
   ]
  },
  {
   "cell_type": "code",
   "execution_count": null,
   "metadata": {},
   "outputs": [],
   "source": [
    "def handle_outgoing_packet(src_ip: str, src_port: int, dst_ip: str, dst_port: int, protocol: str, ip_header: bytes, ip_payload: bytes) -> Tuple[bytes, str]:\n",
    "    pass"
   ]
  },
  {
   "cell_type": "markdown",
   "metadata": {},
   "source": [
    "Now see if you can write logic to handle incoming packets.\n",
    "\n",
    "If the nat table has an entry for the incoming packet, translate the destination IP and port to the original IP and port. Then, construct an Ethernet frame with the translated IP and port, and return it.\n",
    "\n",
    "Can you figure out everything else you might need to do to handle incoming packets?"
   ]
  },
  {
   "cell_type": "code",
   "execution_count": null,
   "metadata": {},
   "outputs": [],
   "source": [
    "def handle_incoming_packet(src_ip: str, dst_ip: str, dst_port: int, protocol: str, ip_header: bytes, ip_payload: bytes) -> Tuple[bytes, str]:\n",
    "    pass"
   ]
  },
  {
   "cell_type": "markdown",
   "metadata": {},
   "source": [
    "# Handling Incoming Packets!\n",
    "\n",
    "You've got all the tools you need, go ahead and implement the logic to handle incoming packets!"
   ]
  },
  {
   "cell_type": "code",
   "execution_count": null,
   "metadata": {},
   "outputs": [],
   "source": [
    "def packet_handler(packet: Packet):\n",
    "    frame = bytes(packet)\n",
    "\n",
    "    pass"
   ]
  },
  {
   "cell_type": "code",
   "execution_count": null,
   "metadata": {},
   "outputs": [],
   "source": [
    "def start_router():\n",
    "    print(\"Router started. Listening for frames...\")\n",
    "    sniff(iface=[internet_interface, local_interface], prn=packet_handler, store=0)"
   ]
  },
  {
   "cell_type": "code",
   "execution_count": null,
   "metadata": {},
   "outputs": [],
   "source": [
    "start_router()"
   ]
  },
  {
   "cell_type": "markdown",
   "metadata": {},
   "source": [
    "Challenges:\n",
    "1. Block traffic to a blacklist of IP addresses.\n",
    "2. Maliciously re-route traffic from google.com to https://elgoog.im/"
   ]
  }
 ],
 "metadata": {
  "kernelspec": {
   "display_name": "base",
   "language": "python",
   "name": "python3"
  },
  "language_info": {
   "codemirror_mode": {
    "name": "ipython",
    "version": 3
   },
   "file_extension": ".py",
   "mimetype": "text/x-python",
   "name": "python",
   "nbconvert_exporter": "python",
   "pygments_lexer": "ipython3",
   "version": "3.10.14"
  }
 },
 "nbformat": 4,
 "nbformat_minor": 2
}
